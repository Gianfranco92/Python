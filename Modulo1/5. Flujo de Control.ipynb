{
 "cells": [
  {
   "cell_type": "markdown",
   "metadata": {},
   "source": [
    "# FLUJO DE CONTROL"
   ]
  },
  {
   "cell_type": "markdown",
   "metadata": {},
   "source": [
    "El flujo de control ayudará a nuestro programa en la toma de decisiones"
   ]
  },
  {
   "cell_type": "markdown",
   "metadata": {},
   "source": [
    "<center> <img src='https://4.bp.blogspot.com/_QWwb06N-r1Y/TMeaj_jf7aI/AAAAAAAAARA/CUtpkzy0Pjo/s1600/selectiva.png' width=\"400\" height=\"250\"></center>"
   ]
  },
  {
   "cell_type": "markdown",
   "metadata": {},
   "source": [
    "## 1. Flujo de control (if - else) "
   ]
  },
  {
   "cell_type": "markdown",
   "metadata": {},
   "source": [
    "El uso de condiciones nos permite tener un mayor control sobre el flujo del programa."
   ]
  },
  {
   "cell_type": "code",
   "execution_count": 3,
   "metadata": {},
   "outputs": [
    {
     "name": "stdout",
     "output_type": "stream",
     "text": [
      "hola\n"
     ]
    }
   ],
   "source": [
    "# Uso de la sentencia if (si)\n",
    "if True:\n",
    "    print('hola')"
   ]
  },
  {
   "cell_type": "code",
   "execution_count": 18,
   "metadata": {},
   "outputs": [
    {
     "name": "stdout",
     "output_type": "stream",
     "text": [
      "el valor de x es distinto de 8\n"
     ]
    }
   ],
   "source": [
    "# Sentencia else (si no)\n",
    "x = 9.2\n",
    "if x==8 :\n",
    "    print('el valor de x es 8')\n",
    "else:\n",
    "    print(f'el valor de x es distinto de {8}')\n",
    "    #print('el valor de x es {}'.format(x))"
   ]
  },
  {
   "cell_type": "code",
   "execution_count": 16,
   "metadata": {},
   "outputs": [
    {
     "name": "stdout",
     "output_type": "stream",
     "text": [
      "a vale 5\n",
      "y b vale 10\n"
     ]
    }
   ],
   "source": [
    "# uso de If anidado\n",
    "a = 5\n",
    "b = 10\n",
    "if a == 5:\n",
    "    print(\"a vale\",a)\n",
    "    \n",
    "    if b == 10:\n",
    "        print('y b vale',b)"
   ]
  },
  {
   "cell_type": "markdown",
   "metadata": {},
   "source": [
    "## 2. Sentencia elif (sino si)"
   ]
  },
  {
   "cell_type": "markdown",
   "metadata": {},
   "source": [
    "Se encadena a un if u otro elif para comprobar múltiples condiciones, siempre que las anteriores no se ejecuten:"
   ]
  },
  {
   "cell_type": "code",
   "execution_count": 17,
   "metadata": {},
   "outputs": [
    {
     "name": "stdout",
     "output_type": "stream",
     "text": [
      "el valor de x es 9\n"
     ]
    }
   ],
   "source": [
    "# Sentencia else (si no)\n",
    "x=9\n",
    "if x==8 :\n",
    "    print('el valor de x es 8')\n",
    "elif x==9:\n",
    "    print('el valor de x es 9')\n",
    "elif x==10:\n",
    "    print('el valor de x es 10')\n",
    "else:\n",
    "    print('el valor de x es distinto de 8')"
   ]
  },
  {
   "cell_type": "code",
   "execution_count": null,
   "metadata": {},
   "outputs": [],
   "source": []
  },
  {
   "cell_type": "code",
   "execution_count": null,
   "metadata": {},
   "outputs": [],
   "source": []
  },
  {
   "cell_type": "code",
   "execution_count": null,
   "metadata": {},
   "outputs": [],
   "source": []
  },
  {
   "cell_type": "markdown",
   "metadata": {},
   "source": [
    "# EJERCICIOS"
   ]
  },
  {
   "cell_type": "markdown",
   "metadata": {},
   "source": [
    "#### 1.\n",
    "Crear un programa que permita decidir a una persona cruzar la calle o no según:\n",
    "- Si semáforo esta en verde cruzar la calle\n",
    "- Si semáforo esta en rojo o amarillo no cruzar\n",
    "\n",
    "La persona debe poder ingresar el estado del semáforo por teclado"
   ]
  },
  {
   "cell_type": "code",
   "execution_count": 22,
   "metadata": {},
   "outputs": [
    {
     "data": {
      "text/plain": [
       "'hola soy pedro'"
      ]
     },
     "execution_count": 22,
     "metadata": {},
     "output_type": "execute_result"
    }
   ],
   "source": [
    "# lower -> convierte un texto a minusculas\n",
    "'HOLA soy Pedro'.lower()"
   ]
  },
  {
   "cell_type": "code",
   "execution_count": 23,
   "metadata": {},
   "outputs": [
    {
     "name": "stdin",
     "output_type": "stream",
     "text": [
      "Ingrese el estado del semáforo:  vErde\n"
     ]
    }
   ],
   "source": [
    "semaforo = input('Ingrese el estado del semáforo: ')"
   ]
  },
  {
   "cell_type": "code",
   "execution_count": 25,
   "metadata": {},
   "outputs": [
    {
     "name": "stdout",
     "output_type": "stream",
     "text": [
      "cruzar la calle\n"
     ]
    }
   ],
   "source": [
    "if semaforo.lower() == \"verde\":\n",
    "    print(\"cruzar la calle\")\n",
    "elif semaforo.lower() ==\"rojo\" and semaforo.lower() ==\"amarillo\":\n",
    "    print(\"no cruzar\")\n",
    "else:\n",
    "    print(\"datos invalidos\")"
   ]
  },
  {
   "cell_type": "markdown",
   "metadata": {},
   "source": [
    "#### 2.\n",
    "Escribir un programa que pregunte al usuario su edad y muestre por pantalla si es mayor de edad o no."
   ]
  },
  {
   "cell_type": "code",
   "execution_count": 26,
   "metadata": {},
   "outputs": [
    {
     "name": "stdin",
     "output_type": "stream",
     "text": [
      "Cual es tu edad?  18\n"
     ]
    }
   ],
   "source": [
    "y = int(input(\"Cual es tu edad? \"))"
   ]
  },
  {
   "cell_type": "code",
   "execution_count": 27,
   "metadata": {},
   "outputs": [
    {
     "name": "stdout",
     "output_type": "stream",
     "text": [
      "mayor edad\n"
     ]
    }
   ],
   "source": [
    "if y>=18:\n",
    "    print(\"mayor edad\")\n",
    "else:\n",
    "    print(\"menor de edad\")"
   ]
  },
  {
   "cell_type": "markdown",
   "metadata": {},
   "source": [
    "#### 3.\n",
    "Escribir un programa que almacene la cadena de caracteres <b>contraseña</b> en una variable, pregunte al usuario por la contraseña e imprima por pantalla si la contraseña introducida por el usuario coincide con la guardada en la variable sin tener en cuenta mayúsculas y minúsculas."
   ]
  },
  {
   "cell_type": "code",
   "execution_count": null,
   "metadata": {},
   "outputs": [],
   "source": []
  },
  {
   "cell_type": "code",
   "execution_count": null,
   "metadata": {},
   "outputs": [],
   "source": []
  },
  {
   "cell_type": "markdown",
   "metadata": {},
   "source": [
    "### 4. \n",
    "Escribir un programa que pida al usuario un número entero y muestre por pantalla si es par o impar.\n"
   ]
  },
  {
   "cell_type": "code",
   "execution_count": 28,
   "metadata": {},
   "outputs": [
    {
     "name": "stdin",
     "output_type": "stream",
     "text": [
      "Ingrese el número aquí:  20\n"
     ]
    }
   ],
   "source": [
    "a = int(input(\"Ingrese el número aquí: \"))"
   ]
  },
  {
   "cell_type": "code",
   "execution_count": 29,
   "metadata": {},
   "outputs": [
    {
     "name": "stdout",
     "output_type": "stream",
     "text": [
      "El número que ha ingresado es PAR 20\n"
     ]
    }
   ],
   "source": [
    "if a%2==0:\n",
    "    print(f\"El número que ha ingresado es PAR {a}\")\n",
    "else:\n",
    "    print(\"El número que ha ingresado es IMPAR {}\".format(a))"
   ]
  },
  {
   "cell_type": "markdown",
   "metadata": {},
   "source": [
    "#### 5.\n",
    "Los tramos impositivos para la declaración de la renta en un determinado país son los siguientes:\n",
    "\n",
    "<table>\n",
    "    <thead>\n",
    "        <th style=\"text-align: center\">Renta</th>\n",
    "        <th style=\"text-align: center\">% de Impuesto</th>\n",
    "    </thead>\n",
    "    <tbody>\n",
    "        <tr>\n",
    "            <td style=\"text-align: center\">Menos de 10000€</td>\n",
    "            <td style=\"text-align: center\">5%</td>\n",
    "        </tr>\n",
    "        <tr>\n",
    "            <td style=\"text-align: center\">Entre 10000€ y 20000€</td>\n",
    "            <td style=\"text-align: center\">15%</td>\n",
    "        </tr>\n",
    "        <tr>\n",
    "            <td style=\"text-align: center\">Entre 20000€ y 35000€</td>\n",
    "            <td style=\"text-align: center\">20%</td>\n",
    "        </tr>\n",
    "        <tr>\n",
    "            <td style=\"text-align: center\">Más de 60000€</td>\n",
    "            <td style=\"text-align: center\">30%</td>\n",
    "        </tr>\n",
    "        <tr>\n",
    "            <td style=\"text-align: center\">Entre 35000€ y 60000€</td>\n",
    "            <td style=\"text-align: center\">45%</td>\n",
    "        </tr>\n",
    "    </tbody>\n",
    "</table>\n"
   ]
  },
  {
   "cell_type": "markdown",
   "metadata": {},
   "source": [
    "Realizar un programa que pueda decir el % de impuestos que una persona deba pagar según su sueldo"
   ]
  },
  {
   "cell_type": "code",
   "execution_count": 35,
   "metadata": {},
   "outputs": [
    {
     "name": "stdin",
     "output_type": "stream",
     "text": [
      "ingrese su sueldo aqui:  20\n"
     ]
    }
   ],
   "source": [
    "sueldo = float(input('ingrese su sueldo aqui: '))"
   ]
  },
  {
   "cell_type": "code",
   "execution_count": 33,
   "metadata": {},
   "outputs": [],
   "source": [
    "if sueldo <10000 :\n",
    "    impuesto = sueldo * 0.05\n",
    "elif sueldo >= 10000 and sueldo <20000:\n",
    "    impuesto = sueldo * 0.15\n",
    "elif sueldo >= 20000 and sueldo <35000:\n",
    "    impuesto = sueldo * 0.20\n",
    "elif sueldo >= 35000 and sueldo <60000:\n",
    "    impuesto = sueldo * 0.45\n",
    "else:\n",
    "    impuesto = sueldo * 0.30"
   ]
  },
  {
   "cell_type": "code",
   "execution_count": null,
   "metadata": {},
   "outputs": [],
   "source": []
  },
  {
   "cell_type": "code",
   "execution_count": 34,
   "metadata": {},
   "outputs": [
    {
     "name": "stdout",
     "output_type": "stream",
     "text": [
      "el impuesto a pagar es 21600.0\n"
     ]
    }
   ],
   "source": [
    "print('el impuesto a pagar es {}'.format(impuesto))"
   ]
  },
  {
   "cell_type": "markdown",
   "metadata": {},
   "source": [
    "#### 6. \n",
    "Realiza un programa que lea dos números por teclado y permita elegir entre 3 opciones en un menú:\n",
    "\n",
    "- Mostrar una suma de los dos números\n",
    "- Mostrar una resta de los dos números (el primero menos el segundo)\n",
    "- Mostrar una multiplicación de los dos números\n",
    "- En caso de introducir una opción inválida, el programa informará de que no es correcta.\n"
   ]
  },
  {
   "cell_type": "code",
   "execution_count": null,
   "metadata": {},
   "outputs": [],
   "source": []
  },
  {
   "cell_type": "code",
   "execution_count": null,
   "metadata": {},
   "outputs": [],
   "source": []
  },
  {
   "cell_type": "markdown",
   "metadata": {},
   "source": [
    "#### 7.\n",
    "La pizzería Bella Napoli ofrece pizzas vegetarianas y no vegetarianas a sus clientes. Los ingredientes para cada tipo de pizza aparecen a continuación.\n",
    "\n",
    "- Ingredientes vegetarianos: Pimiento y tofu.\n",
    "- Ingredientes no vegetarianos: Peperoni, Jamón y Salmón.\n",
    "\n",
    "Escribir un programa que pregunte al usuario si quiere una pizza vegetariana o no, y en función de su respuesta le muestre un menú con los ingredientes disponibles para que elija. Solo se puede eligir un ingrediente además de la mozzarella y el tomate que están en todas la pizzas. Al final se debe mostrar por pantalla si la pizza elegida es vegetariana o no y todos los ingredientes que lleva."
   ]
  },
  {
   "cell_type": "code",
   "execution_count": 3,
   "metadata": {},
   "outputs": [
    {
     "name": "stdin",
     "output_type": "stream",
     "text": [
      "Que tipo de pizza deseas? vegetariana o no vegetariana:  vegetariana\n"
     ]
    }
   ],
   "source": [
    "z=input(\"Que tipo de pizza deseas? vegetariana o no vegetariana: \")"
   ]
  },
  {
   "cell_type": "code",
   "execution_count": 4,
   "metadata": {},
   "outputs": [
    {
     "name": "stdin",
     "output_type": "stream",
     "text": [
      "Cuales son tus ingredientes elegir uno entre pimiento y tofu:  dad\n"
     ]
    },
    {
     "name": "stdout",
     "output_type": "stream",
     "text": [
      "error\n"
     ]
    }
   ],
   "source": [
    "if z == \"vegetariana\":\n",
    "    d = input(\"Cuales son tus ingredientes elegir uno entre pimiento y tofu: \")\n",
    "    if d == \"pimiento\" or d ==\"tofu\":\n",
    "        print(\"Los ingredientes de la pizza vegetariana son mozarella, tomate y \" ,d,)\n",
    "    else:\n",
    "        print (\"error\")\n",
    "        \n",
    "elif z == \"no vegetariana\":\n",
    "    d = input(\"Cuales son tus ingredientes elegir uno entre peperoni, jamon y salmon\")\n",
    "    if d == \"peperoni\" or d == \"jamon\" or d == \"salmon\":\n",
    "        print (\"Los ingredientes de la pizza no vegetariana son mozarella, tomate y \" ,d,)\n",
    "    else: \n",
    "        print (\"error\")\n",
    "\n",
    "else:\n",
    "    print (\"error\")"
   ]
  },
  {
   "cell_type": "code",
   "execution_count": null,
   "metadata": {},
   "outputs": [],
   "source": []
  }
 ],
 "metadata": {
  "kernelspec": {
   "display_name": "Python 3",
   "language": "python",
   "name": "python3"
  },
  "language_info": {
   "codemirror_mode": {
    "name": "ipython",
    "version": 3
   },
   "file_extension": ".py",
   "mimetype": "text/x-python",
   "name": "python",
   "nbconvert_exporter": "python",
   "pygments_lexer": "ipython3",
   "version": "3.8.3"
  }
 },
 "nbformat": 4,
 "nbformat_minor": 4
}
